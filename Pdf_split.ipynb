{
 "cells": [
  {
   "cell_type": "code",
   "execution_count": 9,
   "id": "da56e310",
   "metadata": {},
   "outputs": [
    {
     "name": "stdout",
     "output_type": "stream",
     "text": [
      "File  paginas_PDF1.pdf was created with pages that contain the word PDF1.\n",
      "File  paginas_PDF2.pdf was created with pages that contain the word PDF2.\n",
      "File  paginas_PDF3.pdf was created with pages that contain the word PDF3.\n",
      "File  paginas_PDF4.pdf was created with pages that contain the word PDF4.\n",
      "File ./output\\results.xlsx was created.\n"
     ]
    }
   ],
   "source": [
    "import os\n",
    "import pandas as pd\n",
    "from PyPDF2 import PdfReader, PdfWriter\n",
    "\n",
    "def separate_pdf_per_words(pdf_path, list_words, list_words_exclude, output_folder):\n",
    "    with open(pdf_path, 'rb') as file:\n",
    "        pdf = PdfReader(file)\n",
    "        total_pages = len(pdf.pages)\n",
    "        results = []  # Lista to storethe results (title file and amount of pages)\n",
    "\n",
    "        for word in list_words:\n",
    "            output = PdfWriter()  # Creates pdfwriter objet\n",
    "            word_found = False  # indicates if word is present in a pdf page\n",
    "\n",
    "            for page_num in range(total_pages):\n",
    "                page = pdf.pages[page_num]\n",
    "                content = page.extract_text().lower()  # Extrct pdf content\n",
    "\n",
    "                if word.lower() in content:\n",
    "                    # check if words need to be excluded\n",
    "                    exclude = False\n",
    "                    for word_exclude in list_words_exclude:\n",
    "                        if word_exclude.lower() in content:\n",
    "                            exclude = True\n",
    "                            break\n",
    "\n",
    "                    if not exclude:\n",
    "                        output.add_page(page)\n",
    "                        word_found = True\n",
    "\n",
    "            if word_found:\n",
    "                # generates output file\n",
    "                file_name = f\"pages_{word}.pdf\"\n",
    "                file_dir = os.path.join(output_folder, file_name)\n",
    "\n",
    "                #save pdf that contains specific words\n",
    "                with open(file_dir, 'wb') as output_file:\n",
    "                    output.write(output_file)\n",
    "\n",
    "                print(f\"File  {file_name} was created with pages that contain the word {word}.\")\n",
    "                results.append((file_name, len(output.pages)))\n",
    "            else:\n",
    "                print(f\"{word} was not found.\")\n",
    "\n",
    "        # Generar DataFrame con los resultados\n",
    "        df_results = pd.DataFrame(results, columns=[\"Name\", \"Amount Pages\"])\n",
    "\n",
    "        # Guardar DataFrame en un archivo Excel\n",
    "        excel = os.path.join(output_folder, \"results.xlsx\")\n",
    "        df_results.to_excel(excel, index=False)\n",
    "        print(f\"File {excel} was created.\")\n",
    "\n",
    "# input file\n",
    "input_pdf = 'input.pdf'\n",
    "\n",
    "# Words that must be included to separate pdfs\n",
    "words = ['PDF1', 'PDF2','PDF3','PDF4']\n",
    "\n",
    "# list of words to be excluded\n",
    "words_exclude = ['Do not print']\n",
    "\n",
    "# Carpeta de salida para los archivos generados\n",
    "output_folder = './output'\n",
    "\n",
    "separate_pdf_per_words(input_pdf, words, words_exclude, output_folder)\n"
   ]
  },
  {
   "cell_type": "code",
   "execution_count": null,
   "id": "10b03fa5",
   "metadata": {},
   "outputs": [],
   "source": []
  }
 ],
 "metadata": {
  "kernelspec": {
   "display_name": "Python 3 (ipykernel)",
   "language": "python",
   "name": "python3"
  },
  "language_info": {
   "codemirror_mode": {
    "name": "ipython",
    "version": 3
   },
   "file_extension": ".py",
   "mimetype": "text/x-python",
   "name": "python",
   "nbconvert_exporter": "python",
   "pygments_lexer": "ipython3",
   "version": "3.9.5"
  }
 },
 "nbformat": 4,
 "nbformat_minor": 5
}
